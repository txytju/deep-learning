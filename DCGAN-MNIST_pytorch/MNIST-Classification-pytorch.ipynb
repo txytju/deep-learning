{
 "cells": [
  {
   "cell_type": "code",
   "execution_count": 1,
   "metadata": {
    "collapsed": true
   },
   "outputs": [],
   "source": [
    "import torch as t\n",
    "from torch import nn\n",
    "\n",
    "from torchvision.datasets import MNIST\n",
    "from torchvision import transforms as T\n",
    "from torch.utils.data import DataLoader\n",
    "from torch.autograd import Variable as V\n",
    "\n",
    "import numpy as np"
   ]
  },
  {
   "cell_type": "code",
   "execution_count": 2,
   "metadata": {
    "collapsed": true
   },
   "outputs": [],
   "source": [
    "# Device configuration\n",
    "device = t.device('cuda:0' if t.cuda.is_available() else 'cpu')"
   ]
  },
  {
   "cell_type": "code",
   "execution_count": 3,
   "metadata": {
    "collapsed": true
   },
   "outputs": [],
   "source": [
    "num_epochs = 5\n",
    "num_classes = 10\n",
    "batch_size = 100\n",
    "learning_rate = 0.001"
   ]
  },
  {
   "cell_type": "code",
   "execution_count": 4,
   "metadata": {
    "collapsed": true
   },
   "outputs": [],
   "source": [
    "transforms = T.Compose([T.ToTensor()]) # T.ToTrensor() is a must"
   ]
  },
  {
   "cell_type": "code",
   "execution_count": 5,
   "metadata": {},
   "outputs": [],
   "source": [
    "data_train = MNIST(\"./dataset/mnist-dataset/\",\n",
    "              train=True,\n",
    "              transform=transforms,\n",
    "              target_transform=None,\n",
    "              download=False)"
   ]
  },
  {
   "cell_type": "code",
   "execution_count": 6,
   "metadata": {},
   "outputs": [],
   "source": [
    "data_test = MNIST(\"./dataset/mnist-dataset/\",\n",
    "                  train=False,\n",
    "                  transform=transforms,\n",
    "                  target_transform=None,\n",
    "                  download=False)"
   ]
  },
  {
   "cell_type": "code",
   "execution_count": 7,
   "metadata": {},
   "outputs": [],
   "source": [
    "train_loader = DataLoader(data_train, \n",
    "                              batch_size=batch_size,\n",
    "                              shuffle=True)\n",
    "test_loader = DataLoader(data_test, \n",
    "                             batch_size=batch_size,\n",
    "                             shuffle=True)"
   ]
  },
  {
   "cell_type": "code",
   "execution_count": 8,
   "metadata": {
    "collapsed": true
   },
   "outputs": [],
   "source": [
    "class MNIST_NET(nn.Module):\n",
    "    '''\n",
    "    Build a classification net for MNIST.\n",
    "    '''\n",
    "    def __init__(self):\n",
    "        super(MNIST_NET, self).__init__()\n",
    "        self.net_1 = nn.Sequential(nn.Conv2d(1, 8, 3, stride=1, padding=1),\n",
    "                                 nn.ReLU(),\n",
    "                                 nn.MaxPool2d(kernel_size=2))\n",
    "        self.net_2 = nn.Sequential(nn.Conv2d(8, 32, 3, stride=1, padding=1),\n",
    "                                  nn.ReLU(),\n",
    "                                  nn.MaxPool2d(kernel_size=2))\n",
    "        self.net_3 = nn.Sequential(nn.Conv2d(32, 64, 3, stride=1, padding=1),\n",
    "                                  nn.ReLU(),\n",
    "                                  nn.MaxPool2d(kernel_size=2))\n",
    "        self.net_4 = nn.Sequential(nn.Linear(64*3*3, 100),\n",
    "                                  nn.Linear(100,num_classes))\n",
    "    def forward(self, input):\n",
    "        x = self.net_1(input)\n",
    "        x = self.net_2(x)\n",
    "        x = self.net_3(x)\n",
    "        x = x.view(-1, 64*3*3)\n",
    "        x = self.net_4(x)\n",
    "        return x"
   ]
  },
  {
   "cell_type": "code",
   "execution_count": 9,
   "metadata": {
    "collapsed": true
   },
   "outputs": [],
   "source": [
    "model = MNIST_NET()"
   ]
  },
  {
   "cell_type": "code",
   "execution_count": 10,
   "metadata": {
    "collapsed": true
   },
   "outputs": [],
   "source": [
    "criterion = nn.CrossEntropyLoss()\n",
    "optimizer = t.optim.Adam(model.parameters(), lr=learning_rate)"
   ]
  },
  {
   "cell_type": "code",
   "execution_count": 11,
   "metadata": {},
   "outputs": [
    {
     "name": "stdout",
     "output_type": "stream",
     "text": [
      "Epoch [1/5], Step [100/600], Loss: 0.3141\n",
      "Epoch [1/5], Step [200/600], Loss: 0.1373\n",
      "Epoch [1/5], Step [300/600], Loss: 0.0504\n",
      "Epoch [1/5], Step [400/600], Loss: 0.1073\n",
      "Epoch [1/5], Step [500/600], Loss: 0.1669\n",
      "Epoch [1/5], Step [600/600], Loss: 0.0682\n",
      "Epoch [2/5], Step [100/600], Loss: 0.1167\n",
      "Epoch [2/5], Step [200/600], Loss: 0.0587\n",
      "Epoch [2/5], Step [300/600], Loss: 0.0211\n",
      "Epoch [2/5], Step [400/600], Loss: 0.0290\n",
      "Epoch [2/5], Step [500/600], Loss: 0.0560\n",
      "Epoch [2/5], Step [600/600], Loss: 0.0296\n",
      "Epoch [3/5], Step [100/600], Loss: 0.0758\n",
      "Epoch [3/5], Step [200/600], Loss: 0.0311\n",
      "Epoch [3/5], Step [300/600], Loss: 0.0597\n",
      "Epoch [3/5], Step [400/600], Loss: 0.0247\n",
      "Epoch [3/5], Step [500/600], Loss: 0.0256\n",
      "Epoch [3/5], Step [600/600], Loss: 0.0600\n",
      "Epoch [4/5], Step [100/600], Loss: 0.0078\n",
      "Epoch [4/5], Step [200/600], Loss: 0.0050\n",
      "Epoch [4/5], Step [300/600], Loss: 0.0150\n",
      "Epoch [4/5], Step [400/600], Loss: 0.0724\n",
      "Epoch [4/5], Step [500/600], Loss: 0.0076\n",
      "Epoch [4/5], Step [600/600], Loss: 0.0257\n",
      "Epoch [5/5], Step [100/600], Loss: 0.0634\n",
      "Epoch [5/5], Step [200/600], Loss: 0.0421\n",
      "Epoch [5/5], Step [300/600], Loss: 0.0299\n",
      "Epoch [5/5], Step [400/600], Loss: 0.0090\n",
      "Epoch [5/5], Step [500/600], Loss: 0.1376\n",
      "Epoch [5/5], Step [600/600], Loss: 0.0374\n",
      "Test Accuracy of the model on the 10000 test images: 99.15 %\n"
     ]
    }
   ],
   "source": [
    "# Train the model\n",
    "total_step = len(train_loader)\n",
    "for epoch in range(num_epochs):\n",
    "    for i, (images, labels) in enumerate(train_loader):\n",
    "        images = images.to(device)\n",
    "        labels = labels.to(device)\n",
    "        \n",
    "        # Forward pass\n",
    "        outputs = model(images)\n",
    "        loss = criterion(outputs, labels)\n",
    "        \n",
    "        # Backward and optimize\n",
    "        optimizer.zero_grad()\n",
    "        loss.backward()\n",
    "        optimizer.step()\n",
    "        \n",
    "        if (i+1) % 100 == 0:\n",
    "            print ('Epoch [{}/{}], Step [{}/{}], Loss: {:.4f}' \n",
    "                   .format(epoch+1, num_epochs, i+1, total_step, loss.item()))\n",
    "\n",
    "# Test the model\n",
    "model.eval()  # eval mode (batchnorm uses moving mean/variance instead of mini-batch mean/variance)\n",
    "with t.no_grad():\n",
    "    correct = 0\n",
    "    total = 0\n",
    "    for images, labels in test_loader:\n",
    "        images = images.to(device)\n",
    "        labels = labels.to(device)\n",
    "        outputs = model(images)\n",
    "        _, predicted = t.max(outputs.data, 1)\n",
    "        total += labels.size(0)\n",
    "        correct += (predicted == labels).sum().item()\n",
    "\n",
    "    print('Test Accuracy of the model on the 10000 test images: {} %'.format(100 * correct / total))\n",
    "\n",
    "# Save the model checkpoint\n",
    "t.save(model.state_dict(), 'model.ckpt')"
   ]
  },
  {
   "cell_type": "code",
   "execution_count": null,
   "metadata": {
    "collapsed": true
   },
   "outputs": [],
   "source": []
  }
 ],
 "metadata": {
  "kernelspec": {
   "display_name": "Python 3",
   "language": "python",
   "name": "python3"
  },
  "language_info": {
   "codemirror_mode": {
    "name": "ipython",
    "version": 3
   },
   "file_extension": ".py",
   "mimetype": "text/x-python",
   "name": "python",
   "nbconvert_exporter": "python",
   "pygments_lexer": "ipython3",
   "version": "3.5.2"
  }
 },
 "nbformat": 4,
 "nbformat_minor": 2
}
